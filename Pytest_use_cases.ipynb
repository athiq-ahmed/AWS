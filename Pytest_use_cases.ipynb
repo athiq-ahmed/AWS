{
 "cells": [
  {
   "cell_type": "code",
   "execution_count": 18,
   "metadata": {},
   "outputs": [],
   "source": [
    "import pytest"
   ]
  },
  {
   "cell_type": "code",
   "execution_count": 19,
   "metadata": {},
   "outputs": [],
   "source": [
    "from compute_launch import days_until_launch"
   ]
  },
  {
   "cell_type": "code",
   "execution_count": 22,
   "metadata": {},
   "outputs": [],
   "source": [
    "def test_days_until_launch_4():\n",
    "    assert(days_until_launch(22, 26) == 4)\n",
    "\n",
    "def test_days_until_launch_0():\n",
    "    assert(days_until_launch(253, 253) == 0)\n",
    "\n",
    "def test_days_until_launch_0_negative():\n",
    "    assert(days_until_launch(83, 64) == 0)\n",
    "    \n",
    "def test_days_until_launch_1():\n",
    "    assert(days_until_launch(9, 10) == 1)\n"
   ]
  },
  {
   "cell_type": "code",
   "execution_count": 25,
   "metadata": {},
   "outputs": [
    {
     "name": "stdout",
     "output_type": "stream",
     "text": [
      "<function test_days_until_launch_4 at 0x000002A8C134D558>\n"
     ]
    }
   ],
   "source": [
    "print(test_days_until_launch_4)"
   ]
  }
 ],
 "metadata": {
  "kernelspec": {
   "display_name": "Python 3",
   "language": "python",
   "name": "python3"
  },
  "language_info": {
   "codemirror_mode": {
    "name": "ipython",
    "version": 3
   },
   "file_extension": ".py",
   "mimetype": "text/x-python",
   "name": "python",
   "nbconvert_exporter": "python",
   "pygments_lexer": "ipython3",
   "version": "3.7.7"
  }
 },
 "nbformat": 4,
 "nbformat_minor": 4
}
